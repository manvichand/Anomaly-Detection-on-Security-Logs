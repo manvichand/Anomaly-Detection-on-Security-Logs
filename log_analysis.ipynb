{
  "nbformat": 4,
  "nbformat_minor": 0,
  "metadata": {
    "colab": {
      "provenance": [],
      "include_colab_link": true
    },
    "kernelspec": {
      "name": "python3",
      "display_name": "Python 3"
    },
    "language_info": {
      "name": "python"
    }
  },
  "cells": [
    {
      "cell_type": "markdown",
      "metadata": {
        "id": "view-in-github",
        "colab_type": "text"
      },
      "source": [
        "<a href=\"https://colab.research.google.com/github/manvichand/Anomaly-Detection-on-Security-Logs/blob/main/log_analysis.ipynb\" target=\"_parent\"><img src=\"https://colab.research.google.com/assets/colab-badge.svg\" alt=\"Open In Colab\"/></a>"
      ]
    },
    {
      "cell_type": "markdown",
      "source": [
        "1.Dataset: Loaded from /content/drive/My Drive/CICIDS2017/MachineLearningCVE/MachineLearningCVE/Monday-WorkingHours.pcap_ISCX.csv.\n",
        "\n",
        "2.Model: Isolation Forest with 100 estimators and 5% contamination, trained on 78 numeric features.\n",
        "\n",
        "3.Output: Predictions (anomaly_score: 1 = normal, -1 = anomaly; is_anomaly: 0 = normal, 1 = anomaly) alongside the original \" Label\"."
      ],
      "metadata": {
        "id": "p9Eggjqycgs6"
      }
    },
    {
      "cell_type": "code",
      "source": [
        "!pip install pandas scikit-learn"
      ],
      "metadata": {
        "colab": {
          "base_uri": "https://localhost:8080/"
        },
        "id": "95u9jcIiKypw",
        "outputId": "7016a2d1-7b81-4899-d5ce-907864278a0f"
      },
      "execution_count": null,
      "outputs": [
        {
          "output_type": "stream",
          "name": "stdout",
          "text": [
            "Requirement already satisfied: pandas in /usr/local/lib/python3.11/dist-packages (2.2.2)\n",
            "Requirement already satisfied: scikit-learn in /usr/local/lib/python3.11/dist-packages (1.6.1)\n",
            "Requirement already satisfied: numpy>=1.23.2 in /usr/local/lib/python3.11/dist-packages (from pandas) (2.0.2)\n",
            "Requirement already satisfied: python-dateutil>=2.8.2 in /usr/local/lib/python3.11/dist-packages (from pandas) (2.8.2)\n",
            "Requirement already satisfied: pytz>=2020.1 in /usr/local/lib/python3.11/dist-packages (from pandas) (2025.1)\n",
            "Requirement already satisfied: tzdata>=2022.7 in /usr/local/lib/python3.11/dist-packages (from pandas) (2025.1)\n",
            "Requirement already satisfied: scipy>=1.6.0 in /usr/local/lib/python3.11/dist-packages (from scikit-learn) (1.14.1)\n",
            "Requirement already satisfied: joblib>=1.2.0 in /usr/local/lib/python3.11/dist-packages (from scikit-learn) (1.4.2)\n",
            "Requirement already satisfied: threadpoolctl>=3.1.0 in /usr/local/lib/python3.11/dist-packages (from scikit-learn) (3.6.0)\n",
            "Requirement already satisfied: six>=1.5 in /usr/local/lib/python3.11/dist-packages (from python-dateutil>=2.8.2->pandas) (1.17.0)\n"
          ]
        }
      ]
    },
    {
      "cell_type": "code",
      "source": [
        "import os\n",
        "import pandas as pd\n",
        "from sklearn.ensemble import IsolationForest"
      ],
      "metadata": {
        "id": "C36nLVeLK-Z0"
      },
      "execution_count": null,
      "outputs": []
    },
    {
      "cell_type": "code",
      "source": [
        "# config.py (Global Configurations) not needed at the moment\n",
        "\n",
        "import os\n",
        "\n",
        "# Paths\n",
        "DATASET_PATH = os.path.join(\"datasets\", \"logs.csv\")\n",
        "MALWARE_IMAGE_PATH = os.path.join(\"datasets\", \"malware_images\")\n",
        "# MALWARE_IMAGE_PATH becomes a string like \"datasets/malware_images\" (on Unix) or \"datasets\\malware_images\" (on Windows).\n",
        "# This path could be used to access or save image files during the program’s execution.\n",
        "MODEL_SAVE_PATH = os.path.join(\"models\")\n",
        "# This folder is intended to store trained machine learning models\n",
        "#  (e.g., neural network weights or other model files) after they’ve been built or trained.\n",
        "\n",
        "# ML Hyperparameters\n",
        "ANOMALY_DETECTION_PARAMS = {\"n_estimators\": 100, \"contamination\": 0.05}\n",
        "VISION_TRANSFORMER_MODEL = \"google/vit-base-patch16-224\"\n",
        "LLM_MODEL = \"gpt-4\"\n"
      ],
      "metadata": {
        "id": "0X0Ne7Y7CIwa"
      },
      "execution_count": null,
      "outputs": []
    },
    {
      "cell_type": "markdown",
      "source": [
        " ANOMALY_DETECTION_PARAMS = {\"n_estimators\": 100, \"contamination\": 0.05}\n",
        "Here contamination parameter indicates the expected proportion of anomalies (outliers) in the dataset, set to 5% (0.05). It’s often used in anomaly detection algorithms like Isolation Forest to determine the threshold for classifying data points as anomalies."
      ],
      "metadata": {
        "id": "fjurLknFEs5j"
      }
    },
    {
      "cell_type": "code",
      "execution_count": null,
      "metadata": {
        "id": "NEPjj4ha6ODh"
      },
      "outputs": [],
      "source": []
    },
    {
      "cell_type": "code",
      "source": [
        "# Anomaly Detection on Security Logs in Google Colab\n",
        "\n",
        "# Install libraries\n",
        "!pip install pandas scikit-learn\n",
        "\n",
        "# Import libraries\n",
        "import os\n",
        "import pandas as pd\n",
        "from sklearn.ensemble import IsolationForest\n",
        "from google.colab import drive\n",
        "\n",
        "# Mount Google Drive\n",
        "drive.mount(\"/content/drive\")\n",
        "\n",
        "# Define paths and hyperparameters\n",
        "ANOMALY_DETECTION_PARAMS = {\"n_estimators\": 100, \"contamination\": 0.05}\n",
        "DATASET_DIR = \"/content/drive/My Drive/CICIDS2017/MachineLearningCVE\"\n",
        "DATASET_PATH = os.path.join(DATASET_DIR, \"Monday-WorkingHours.pcap_ISCX.csv\")\n",
        "ZIP_PATH = \"/content/MachineLearningCVE.zip\"\n",
        "URL = \"http://cicresearch.ca/CICDataset/CIC-IDS-2017/Dataset/CIC-IDS-2017/CSVs/MachineLearningCSV.zip\"\n",
        "\n",
        "# Download and prepare dataset\n",
        "if not os.path.exists(DATASET_PATH):\n",
        "    print(\"Dataset not found, downloading and extracting...\")\n",
        "    !mkdir -p \"{DATASET_DIR}\"\n",
        "    if os.path.exists(ZIP_PATH):\n",
        "        print(\"Removing old ZIP file...\")\n",
        "        !rm \"{ZIP_PATH}\"\n",
        "    print(f\"Downloading from: {URL}\")\n",
        "    !wget -O \"{ZIP_PATH}\" \"{URL}\"\n",
        "    if os.path.exists(ZIP_PATH) and os.path.getsize(ZIP_PATH) > 200000000:\n",
        "        print(\"Download successful, verifying size...\")\n",
        "        !ls -lh \"{ZIP_PATH}\"\n",
        "        print(\"Extracting files...\")\n",
        "        !unzip -o \"{ZIP_PATH}\" -d \"{DATASET_DIR}\"\n",
        "        !ls \"{DATASET_DIR}\"\n",
        "    else:\n",
        "        raise FileNotFoundError(\"Failed to download a valid ZIP file\")\n",
        "    if not os.path.exists(DATASET_PATH):\n",
        "        print(\"Searching for Monday-WorkingHours.pcap_ISCX.csv...\")\n",
        "        for root, dirs, files in os.walk(DATASET_DIR):\n",
        "            if \"Monday-WorkingHours.pcap_ISCX.csv\" in files:\n",
        "                DATASET_PATH = os.path.join(root, \"Monday-WorkingHours.pcap_ISCX.csv\")\n",
        "                print(f\"Found at: {DATASET_PATH}\")\n",
        "                break\n",
        "        else:\n",
        "            raise FileNotFoundError(\"Could not find Monday-WorkingHours.pcap_ISCX.csv\")\n",
        "\n",
        "class LogAnalyzer:\n",
        "    \"\"\"Analyzes security logs to detect anomalies using Isolation Forest.\"\"\"\n",
        "\n",
        "    def __init__(self):\n",
        "        \"\"\"Initializes the LogAnalyzer with an Isolation Forest model.\"\"\"\n",
        "        self.model = IsolationForest(**ANOMALY_DETECTION_PARAMS)\n",
        "\n",
        "    def load_data(self):\n",
        "        \"\"\"Loads security log data from a CSV file.\"\"\"\n",
        "        print(f\"Loading data from: {DATASET_PATH}\")\n",
        "        df = pd.read_csv(DATASET_PATH)\n",
        "        print(\"Columns in loaded DataFrame:\", df.columns.tolist())\n",
        "        return df\n",
        "\n",
        "    def train_model(self, df):\n",
        "        \"\"\"Trains the Isolation Forest model on the log data.\"\"\"\n",
        "        numeric_df = df.select_dtypes(include=['float64', 'int64'])\n",
        "        self.model.fit(numeric_df)\n",
        "\n",
        "    def detect_anomalies(self, df):\n",
        "        \"\"\"Detects anomalies in log data using Isolation Forest.\"\"\"\n",
        "        numeric_df = df.select_dtypes(include=['float64', 'int64'])\n",
        "        df[\"anomaly_score\"] = self.model.predict(numeric_df)\n",
        "        df[\"is_anomaly\"] = df[\"anomaly_score\"].apply(lambda x: 1 if x == -1 else 0)\n",
        "        return df\n",
        "\n",
        "if __name__ == \"__main__\":\n",
        "    log_analyzer = LogAnalyzer()\n",
        "    df = log_analyzer.load_data()\n",
        "    log_analyzer.train_model(df)\n",
        "    anomalies = log_analyzer.detect_anomalies(df)\n",
        "    print(\"\\nFirst 5 rows with anomaly detection results:\")\n",
        "    if \" Label\" in anomalies.columns:\n",
        "        print(anomalies[[\" Label\", \"anomaly_score\", \"is_anomaly\"]].head())\n",
        "    else:\n",
        "        print(\"Label column not found, printing without it:\")\n",
        "        print(anomalies[[\"anomaly_score\", \"is_anomaly\"]].head())\n",
        "    print(f\"\\nNumber of detected anomalies: {anomalies['is_anomaly'].sum()}\")\n",
        "\n",
        "    # Add validation code here\n",
        "    anomalies[\"true_anomaly\"] = anomalies[\" Label\"].apply(lambda x: 0 if x == \"BENIGN\" else 1)\n",
        "    print(\"\\nComparison with true labels:\")\n",
        "    print(anomalies[[\" Label\", \"is_anomaly\", \"true_anomaly\"]].head(10))\n",
        "    # Count matches\n",
        "    matches = (anomalies[\"is_anomaly\"] == anomalies[\"true_anomaly\"]).sum()\n",
        "    print(f\"\\nAgreement with true labels: {matches}/{len(anomalies)} ({matches/len(anomalies)*100:.2f}%)\")\n",
        "    #Step 1: Creates \"true_anomaly\" (0 for \"BENIGN\", 1 for attacks).\n",
        "    # Step 2: Prints a table comparing \" Label\", \"is_anomaly\", and \"true_anomaly\" for the first 10 rows.\n",
        "    # Step 3: Counts how many times \"is_anomaly\" equals \"true_anomaly\" (stored in matches).\n",
        "    # This Line: Summarizes the agreement as a fraction and percentage."
      ],
      "metadata": {
        "colab": {
          "base_uri": "https://localhost:8080/"
        },
        "id": "sTuvLEDROAJy",
        "outputId": "13fdd754-41dd-4a96-8d2c-fa096edb585e"
      },
      "execution_count": null,
      "outputs": [
        {
          "output_type": "stream",
          "name": "stdout",
          "text": [
            "Requirement already satisfied: pandas in /usr/local/lib/python3.11/dist-packages (2.2.2)\n",
            "Requirement already satisfied: scikit-learn in /usr/local/lib/python3.11/dist-packages (1.6.1)\n",
            "Requirement already satisfied: numpy>=1.23.2 in /usr/local/lib/python3.11/dist-packages (from pandas) (2.0.2)\n",
            "Requirement already satisfied: python-dateutil>=2.8.2 in /usr/local/lib/python3.11/dist-packages (from pandas) (2.8.2)\n",
            "Requirement already satisfied: pytz>=2020.1 in /usr/local/lib/python3.11/dist-packages (from pandas) (2025.1)\n",
            "Requirement already satisfied: tzdata>=2022.7 in /usr/local/lib/python3.11/dist-packages (from pandas) (2025.1)\n",
            "Requirement already satisfied: scipy>=1.6.0 in /usr/local/lib/python3.11/dist-packages (from scikit-learn) (1.14.1)\n",
            "Requirement already satisfied: joblib>=1.2.0 in /usr/local/lib/python3.11/dist-packages (from scikit-learn) (1.4.2)\n",
            "Requirement already satisfied: threadpoolctl>=3.1.0 in /usr/local/lib/python3.11/dist-packages (from scikit-learn) (3.6.0)\n",
            "Requirement already satisfied: six>=1.5 in /usr/local/lib/python3.11/dist-packages (from python-dateutil>=2.8.2->pandas) (1.17.0)\n",
            "Drive already mounted at /content/drive; to attempt to forcibly remount, call drive.mount(\"/content/drive\", force_remount=True).\n",
            "Dataset not found, downloading and extracting...\n",
            "Removing old ZIP file...\n",
            "Downloading from: http://cicresearch.ca/CICDataset/CIC-IDS-2017/Dataset/CIC-IDS-2017/CSVs/MachineLearningCSV.zip\n",
            "--2025-03-22 15:35:43--  http://cicresearch.ca/CICDataset/CIC-IDS-2017/Dataset/CIC-IDS-2017/CSVs/MachineLearningCSV.zip\n",
            "Resolving cicresearch.ca (cicresearch.ca)... 205.174.165.80\n",
            "Connecting to cicresearch.ca (cicresearch.ca)|205.174.165.80|:80... connected.\n",
            "HTTP request sent, awaiting response... 200 OK\n",
            "Length: 235102953 (224M) [application/zip]\n",
            "Saving to: ‘/content/MachineLearningCVE.zip’\n",
            "\n",
            "/content/MachineLea 100%[===================>] 224.21M  21.6MB/s    in 19s     \n",
            "\n",
            "2025-03-22 15:36:02 (12.1 MB/s) - ‘/content/MachineLearningCVE.zip’ saved [235102953/235102953]\n",
            "\n",
            "Download successful, verifying size...\n",
            "-rw-r--r-- 1 root root 225M Feb  1  2024 /content/MachineLearningCVE.zip\n",
            "Extracting files...\n",
            "Archive:  /content/MachineLearningCVE.zip\n",
            "  inflating: /content/drive/My Drive/CICIDS2017/MachineLearningCVE/MachineLearningCVE/Wednesday-workingHours.pcap_ISCX.csv  \n",
            "  inflating: /content/drive/My Drive/CICIDS2017/MachineLearningCVE/MachineLearningCVE/Tuesday-WorkingHours.pcap_ISCX.csv  \n",
            "  inflating: /content/drive/My Drive/CICIDS2017/MachineLearningCVE/MachineLearningCVE/Thursday-WorkingHours-Morning-WebAttacks.pcap_ISCX.csv  \n",
            "  inflating: /content/drive/My Drive/CICIDS2017/MachineLearningCVE/MachineLearningCVE/Thursday-WorkingHours-Afternoon-Infilteration.pcap_ISCX.csv  \n",
            "  inflating: /content/drive/My Drive/CICIDS2017/MachineLearningCVE/MachineLearningCVE/Monday-WorkingHours.pcap_ISCX.csv  \n",
            "  inflating: /content/drive/My Drive/CICIDS2017/MachineLearningCVE/MachineLearningCVE/Friday-WorkingHours-Morning.pcap_ISCX.csv  \n",
            "  inflating: /content/drive/My Drive/CICIDS2017/MachineLearningCVE/MachineLearningCVE/Friday-WorkingHours-Afternoon-PortScan.pcap_ISCX.csv  \n",
            "  inflating: /content/drive/My Drive/CICIDS2017/MachineLearningCVE/MachineLearningCVE/Friday-WorkingHours-Afternoon-DDos.pcap_ISCX.csv  \n",
            "MachineLearningCVE\n",
            "Searching for Monday-WorkingHours.pcap_ISCX.csv...\n",
            "Found at: /content/drive/My Drive/CICIDS2017/MachineLearningCVE/MachineLearningCVE/Monday-WorkingHours.pcap_ISCX.csv\n",
            "Loading data from: /content/drive/My Drive/CICIDS2017/MachineLearningCVE/MachineLearningCVE/Monday-WorkingHours.pcap_ISCX.csv\n",
            "Columns in loaded DataFrame: [' Destination Port', ' Flow Duration', ' Total Fwd Packets', ' Total Backward Packets', 'Total Length of Fwd Packets', ' Total Length of Bwd Packets', ' Fwd Packet Length Max', ' Fwd Packet Length Min', ' Fwd Packet Length Mean', ' Fwd Packet Length Std', 'Bwd Packet Length Max', ' Bwd Packet Length Min', ' Bwd Packet Length Mean', ' Bwd Packet Length Std', 'Flow Bytes/s', ' Flow Packets/s', ' Flow IAT Mean', ' Flow IAT Std', ' Flow IAT Max', ' Flow IAT Min', 'Fwd IAT Total', ' Fwd IAT Mean', ' Fwd IAT Std', ' Fwd IAT Max', ' Fwd IAT Min', 'Bwd IAT Total', ' Bwd IAT Mean', ' Bwd IAT Std', ' Bwd IAT Max', ' Bwd IAT Min', 'Fwd PSH Flags', ' Bwd PSH Flags', ' Fwd URG Flags', ' Bwd URG Flags', ' Fwd Header Length', ' Bwd Header Length', 'Fwd Packets/s', ' Bwd Packets/s', ' Min Packet Length', ' Max Packet Length', ' Packet Length Mean', ' Packet Length Std', ' Packet Length Variance', 'FIN Flag Count', ' SYN Flag Count', ' RST Flag Count', ' PSH Flag Count', ' ACK Flag Count', ' URG Flag Count', ' CWE Flag Count', ' ECE Flag Count', ' Down/Up Ratio', ' Average Packet Size', ' Avg Fwd Segment Size', ' Avg Bwd Segment Size', ' Fwd Header Length.1', 'Fwd Avg Bytes/Bulk', ' Fwd Avg Packets/Bulk', ' Fwd Avg Bulk Rate', ' Bwd Avg Bytes/Bulk', ' Bwd Avg Packets/Bulk', 'Bwd Avg Bulk Rate', 'Subflow Fwd Packets', ' Subflow Fwd Bytes', ' Subflow Bwd Packets', ' Subflow Bwd Bytes', 'Init_Win_bytes_forward', ' Init_Win_bytes_backward', ' act_data_pkt_fwd', ' min_seg_size_forward', 'Active Mean', ' Active Std', ' Active Max', ' Active Min', 'Idle Mean', ' Idle Std', ' Idle Max', ' Idle Min', ' Label']\n",
            "\n",
            "First 5 rows with anomaly detection results:\n",
            "    Label  anomaly_score  is_anomaly\n",
            "0  BENIGN              1           0\n",
            "1  BENIGN              1           0\n",
            "2  BENIGN              1           0\n",
            "3  BENIGN              1           0\n",
            "4  BENIGN              1           0\n",
            "\n",
            "Number of detected anomalies: 26496\n",
            "\n",
            "Comparison with true labels:\n",
            "    Label  is_anomaly  true_anomaly\n",
            "0  BENIGN           0             0\n",
            "1  BENIGN           0             0\n",
            "2  BENIGN           0             0\n",
            "3  BENIGN           0             0\n",
            "4  BENIGN           0             0\n",
            "5  BENIGN           0             0\n",
            "6  BENIGN           0             0\n",
            "7  BENIGN           0             0\n",
            "8  BENIGN           0             0\n",
            "9  BENIGN           0             0\n",
            "\n",
            "Agreement with true labels: 503422/529918 (95.00%)\n"
          ]
        }
      ]
    },
    {
      "cell_type": "code",
      "source": [
        "!wget --spider \"http://cicresearch.ca/CICDataset/CIC-IDS-2017/Dataset/CIC-IDS-2017/CSVs/MachineLearningCSV.zip\" #checked if the remote download file exists."
      ],
      "metadata": {
        "colab": {
          "base_uri": "https://localhost:8080/"
        },
        "id": "zHkoVBbuW4Ar",
        "outputId": "6dc77f39-ceb6-433c-cfc6-de11c545abba"
      },
      "execution_count": null,
      "outputs": [
        {
          "output_type": "stream",
          "name": "stdout",
          "text": [
            "Spider mode enabled. Check if remote file exists.\n",
            "--2025-03-22 14:59:57--  http://cicresearch.ca/CICDataset/CIC-IDS-2017/Dataset/CIC-IDS-2017/CSVs/MachineLearningCSV.zip\n",
            "Resolving cicresearch.ca (cicresearch.ca)... 205.174.165.80\n",
            "Connecting to cicresearch.ca (cicresearch.ca)|205.174.165.80|:80... connected.\n",
            "HTTP request sent, awaiting response... 200 OK\n",
            "Length: 235102953 (224M) [application/zip]\n",
            "Remote file exists.\n",
            "\n"
          ]
        }
      ]
    }
  ]
}